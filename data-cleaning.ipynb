{
 "cells": [
  {
   "cell_type": "markdown",
   "metadata": {},
   "source": [
    "# Mental Health Analysis"
   ]
  },
  {
   "cell_type": "code",
   "execution_count": 13,
   "metadata": {},
   "outputs": [],
   "source": [
    "import pandas as pd\n",
    "from pathlib import Path\n",
    "import os\n",
    "import re\n",
    "\n",
    "import spacy"
   ]
  },
  {
   "cell_type": "code",
   "execution_count": 2,
   "metadata": {},
   "outputs": [],
   "source": [
    "current_working_folder = Path.cwd()\n",
    "current_folder_abs = os.path.abspath(current_working_folder)\n",
    "\n",
    "data_folder = \"reddit_mental_health_data\"\n",
    "data_filepath = f\"./{data_folder}/addiction_2018_features_tfidf_256.csv\"\n",
    "addiction_18_df = pd.read_csv(os.path.join(current_folder_abs, data_filepath))\n",
    "data_folder_path = os.path.join(current_folder_abs,f\"./{data_folder}\")"
   ]
  },
  {
   "cell_type": "code",
   "execution_count": 3,
   "metadata": {},
   "outputs": [
    {
     "data": {
      "text/plain": [
       "Index(['subreddit', 'author', 'date', 'post'], dtype='object')"
      ]
     },
     "execution_count": 3,
     "metadata": {},
     "output_type": "execute_result"
    }
   ],
   "source": [
    "required_columns = addiction_18_df.columns[:4]\n",
    "required_columns"
   ]
  },
  {
   "cell_type": "code",
   "execution_count": 4,
   "metadata": {},
   "outputs": [
    {
     "data": {
      "text/html": [
       "<div>\n",
       "<style scoped>\n",
       "    .dataframe tbody tr th:only-of-type {\n",
       "        vertical-align: middle;\n",
       "    }\n",
       "\n",
       "    .dataframe tbody tr th {\n",
       "        vertical-align: top;\n",
       "    }\n",
       "\n",
       "    .dataframe thead th {\n",
       "        text-align: right;\n",
       "    }\n",
       "</style>\n",
       "<table border=\"1\" class=\"dataframe\">\n",
       "  <thead>\n",
       "    <tr style=\"text-align: right;\">\n",
       "      <th></th>\n",
       "      <th>subreddit</th>\n",
       "      <th>author</th>\n",
       "      <th>date</th>\n",
       "      <th>post</th>\n",
       "    </tr>\n",
       "  </thead>\n",
       "  <tbody>\n",
       "    <tr>\n",
       "      <th>0</th>\n",
       "      <td>guns</td>\n",
       "      <td>TrickyWidget</td>\n",
       "      <td>2019/08/29</td>\n",
       "      <td>Bersa Thunder 22: Long-term reliability? Hi, f...</td>\n",
       "    </tr>\n",
       "    <tr>\n",
       "      <th>1</th>\n",
       "      <td>guns</td>\n",
       "      <td>Phonkboi</td>\n",
       "      <td>2019/08/29</td>\n",
       "      <td>Anybody have any experience with the diamondba...</td>\n",
       "    </tr>\n",
       "    <tr>\n",
       "      <th>2</th>\n",
       "      <td>guns</td>\n",
       "      <td>civildallas</td>\n",
       "      <td>2019/08/29</td>\n",
       "      <td>Old &amp;amp; New // Colt 1911 &amp;amp; MCX Rattler I...</td>\n",
       "    </tr>\n",
       "    <tr>\n",
       "      <th>3</th>\n",
       "      <td>guns</td>\n",
       "      <td>alphenos</td>\n",
       "      <td>2019/08/29</td>\n",
       "      <td>Start working in a gun shop next week. Need so...</td>\n",
       "    </tr>\n",
       "    <tr>\n",
       "      <th>4</th>\n",
       "      <td>guns</td>\n",
       "      <td>ThePrince_OfWhales</td>\n",
       "      <td>2019/08/29</td>\n",
       "      <td>Cheap targets for plinking? I'm headed to the ...</td>\n",
       "    </tr>\n",
       "  </tbody>\n",
       "</table>\n",
       "</div>"
      ],
      "text/plain": [
       "  subreddit              author        date  \\\n",
       "0      guns        TrickyWidget  2019/08/29   \n",
       "1      guns            Phonkboi  2019/08/29   \n",
       "2      guns         civildallas  2019/08/29   \n",
       "3      guns            alphenos  2019/08/29   \n",
       "4      guns  ThePrince_OfWhales  2019/08/29   \n",
       "\n",
       "                                                post  \n",
       "0  Bersa Thunder 22: Long-term reliability? Hi, f...  \n",
       "1  Anybody have any experience with the diamondba...  \n",
       "2  Old &amp; New // Colt 1911 &amp; MCX Rattler I...  \n",
       "3  Start working in a gun shop next week. Need so...  \n",
       "4  Cheap targets for plinking? I'm headed to the ...  "
      ]
     },
     "execution_count": 4,
     "metadata": {},
     "output_type": "execute_result"
    }
   ],
   "source": [
    "csv_files = [f for f in os.listdir(data_folder_path)if f.endswith('.csv')]\n",
    "\n",
    "data_frames = []\n",
    "\n",
    "for file in csv_files:\n",
    "    file_path = os.path.join(data_folder_path, file)\n",
    "    df = pd.read_csv(file_path)\n",
    "    df_first_four_columns = df.iloc[:, :4]\n",
    "    data_frames.append(df_first_four_columns)\n",
    "\n",
    "mental_health_df = pd.concat(data_frames, ignore_index=True)\n",
    "\n",
    "mental_health_df.head()"
   ]
  },
  {
   "cell_type": "code",
   "execution_count": 5,
   "metadata": {},
   "outputs": [
    {
     "name": "stdout",
     "output_type": "stream",
     "text": [
      "          subreddit              class\n",
      "0       EDAnonymous        EDAnonymous\n",
      "1         addiction          addiction\n",
      "2        alcoholism         alcoholism\n",
      "3              adhd               adhd\n",
      "4           anxiety            anxiety\n",
      "5            autism             autism\n",
      "6     bipolarreddit      bipolarreddit\n",
      "7               bpd                bpd\n",
      "8        depression         depression\n",
      "9     healthanxiety      healthanxiety\n",
      "10           lonely             lonely\n",
      "11             ptsd               ptsd\n",
      "12    schizophrenia      schizophrenia\n",
      "13    socialanxiety      socialanxiety\n",
      "14     suicidewatch       suicidewatch\n",
      "15     mentalhealth       mentalhealth\n",
      "16  COVID19_support    COVID19_support\n",
      "17       conspiracy  non_mental_health\n",
      "18          divorce  non_mental_health\n",
      "19          fitness  non_mental_health\n",
      "20             guns  non_mental_health\n",
      "21            jokes  non_mental_health\n",
      "22      legaladvice  non_mental_health\n",
      "23       meditation  non_mental_health\n",
      "24        parenting  non_mental_health\n",
      "25  personalfinance  non_mental_health\n",
      "26    relationships  non_mental_health\n",
      "27         teaching  non_mental_health\n"
     ]
    }
   ],
   "source": [
    "data_subreddits = [\n",
    "    'EDAnonymous', 'addiction', 'alcoholism', 'adhd', 'anxiety', 'autism',\n",
    "    'bipolarreddit', 'bpd', 'depression', 'healthanxiety', 'lonely', 'ptsd',\n",
    "    'schizophrenia', 'socialanxiety', 'suicidewatch', 'mentalhealth', 'COVID19_support',\n",
    "    'conspiracy', 'divorce', 'fitness', 'guns', 'jokes', 'legaladvice', 'meditation',\n",
    "    'parenting', 'personalfinance', 'relationships', 'teaching'\n",
    "]\n",
    "\n",
    "subreddits_df = pd.DataFrame(data_subreddits, columns=['subreddit'])\n",
    "\n",
    "mental_health_subreddits = [\n",
    "    'EDAnonymous', 'addiction', 'alcoholism', 'adhd', 'anxiety', 'autism',\n",
    "    'bipolarreddit', 'bpd', 'depression', 'healthanxiety', 'lonely', 'ptsd',\n",
    "    'schizophrenia', 'socialanxiety', 'suicidewatch', 'mentalhealth', 'COVID19_support'\n",
    "]\n",
    "\n",
    "subreddits_df['class'] = subreddits_df['subreddit'].apply(lambda x: x if x in mental_health_subreddits else 'non_mental_health')\n",
    "\n",
    "print(subreddits_df)\n"
   ]
  },
  {
   "cell_type": "code",
   "execution_count": 6,
   "metadata": {},
   "outputs": [
    {
     "data": {
      "text/plain": [
       "array(['non_mental_health', 'socialanxiety', 'adhd', 'autism', 'ptsd',\n",
       "       'suicidewatch', 'lonely', 'mentalhealth', 'alcoholism',\n",
       "       'bipolarreddit', 'schizophrenia', 'depression', 'EDAnonymous',\n",
       "       'addiction', 'healthanxiety', 'COVID19_support', 'anxiety', 'bpd'],\n",
       "      dtype=object)"
      ]
     },
     "execution_count": 6,
     "metadata": {},
     "output_type": "execute_result"
    }
   ],
   "source": [
    "mental_health_df['target'] = mental_health_df['subreddit'].str.strip().apply(lambda x:x if x in list(subreddits_df['class']) else 'non_mental_health')\n",
    "mental_health_df['target'].unique()"
   ]
  },
  {
   "cell_type": "code",
   "execution_count": 7,
   "metadata": {},
   "outputs": [
    {
     "data": {
      "text/html": [
       "<div>\n",
       "<style scoped>\n",
       "    .dataframe tbody tr th:only-of-type {\n",
       "        vertical-align: middle;\n",
       "    }\n",
       "\n",
       "    .dataframe tbody tr th {\n",
       "        vertical-align: top;\n",
       "    }\n",
       "\n",
       "    .dataframe thead th {\n",
       "        text-align: right;\n",
       "    }\n",
       "</style>\n",
       "<table border=\"1\" class=\"dataframe\">\n",
       "  <thead>\n",
       "    <tr style=\"text-align: right;\">\n",
       "      <th></th>\n",
       "      <th>subreddit</th>\n",
       "      <th>author</th>\n",
       "      <th>date</th>\n",
       "      <th>post</th>\n",
       "      <th>target</th>\n",
       "    </tr>\n",
       "  </thead>\n",
       "  <tbody>\n",
       "    <tr>\n",
       "      <th>0</th>\n",
       "      <td>guns</td>\n",
       "      <td>TrickyWidget</td>\n",
       "      <td>2019/08/29</td>\n",
       "      <td>Bersa Thunder 22: Long-term reliability? Hi, f...</td>\n",
       "      <td>non_mental_health</td>\n",
       "    </tr>\n",
       "    <tr>\n",
       "      <th>1</th>\n",
       "      <td>guns</td>\n",
       "      <td>Phonkboi</td>\n",
       "      <td>2019/08/29</td>\n",
       "      <td>Anybody have any experience with the diamondba...</td>\n",
       "      <td>non_mental_health</td>\n",
       "    </tr>\n",
       "    <tr>\n",
       "      <th>2</th>\n",
       "      <td>guns</td>\n",
       "      <td>civildallas</td>\n",
       "      <td>2019/08/29</td>\n",
       "      <td>Old &amp;amp; New // Colt 1911 &amp;amp; MCX Rattler I...</td>\n",
       "      <td>non_mental_health</td>\n",
       "    </tr>\n",
       "    <tr>\n",
       "      <th>3</th>\n",
       "      <td>guns</td>\n",
       "      <td>alphenos</td>\n",
       "      <td>2019/08/29</td>\n",
       "      <td>Start working in a gun shop next week. Need so...</td>\n",
       "      <td>non_mental_health</td>\n",
       "    </tr>\n",
       "    <tr>\n",
       "      <th>4</th>\n",
       "      <td>guns</td>\n",
       "      <td>ThePrince_OfWhales</td>\n",
       "      <td>2019/08/29</td>\n",
       "      <td>Cheap targets for plinking? I'm headed to the ...</td>\n",
       "      <td>non_mental_health</td>\n",
       "    </tr>\n",
       "  </tbody>\n",
       "</table>\n",
       "</div>"
      ],
      "text/plain": [
       "  subreddit              author        date  \\\n",
       "0      guns        TrickyWidget  2019/08/29   \n",
       "1      guns            Phonkboi  2019/08/29   \n",
       "2      guns         civildallas  2019/08/29   \n",
       "3      guns            alphenos  2019/08/29   \n",
       "4      guns  ThePrince_OfWhales  2019/08/29   \n",
       "\n",
       "                                                post             target  \n",
       "0  Bersa Thunder 22: Long-term reliability? Hi, f...  non_mental_health  \n",
       "1  Anybody have any experience with the diamondba...  non_mental_health  \n",
       "2  Old &amp; New // Colt 1911 &amp; MCX Rattler I...  non_mental_health  \n",
       "3  Start working in a gun shop next week. Need so...  non_mental_health  \n",
       "4  Cheap targets for plinking? I'm headed to the ...  non_mental_health  "
      ]
     },
     "execution_count": 7,
     "metadata": {},
     "output_type": "execute_result"
    }
   ],
   "source": [
    "mental_health_df.head()"
   ]
  },
  {
   "cell_type": "code",
   "execution_count": 11,
   "metadata": {},
   "outputs": [],
   "source": [
    "#DATA SET CREATION AND EMPIRICAL ANALYSIS FOR DETECTING SIGNS OF DEPRESSION FROM SOCIAL MEDIA POSTINGS\n",
    "\n",
    "# Sampath, Kayalvizhi, and Thenmozhi Durairaj. \"Data set creation and empirical analysis for detecting signs of depression from social media postings.\" \n",
    "# International Conference on Computational Intelligence in Data Science. Cham: Springer International Publishing, 2022.\n",
    "\n",
    "# the text and title part are pre-processed by removing the non-ASCII characters and emoticons\n",
    "# to get a clean data set\n",
    "\n",
    "def remove_non_ascii(text):\n",
    "    cleaned_text = ''.join([char for char in text if ord(char) < 128])\n",
    "    cleaned_text = re.sub(r'[^\\x00-\\x7F]+', '', cleaned_text)\n",
    "    return cleaned_text\n",
    "\n",
    "mental_health_df['cleaned_post'] = mental_health_df['post'].apply(lambda x: remove_non_ascii(str(x)))\n",
    "mental_health_df['cleaned_post'] = mental_health_df['cleaned_post'].apply(lambda x: x.replace(\"&amp;\",\"&\"))\n"
   ]
  },
  {
   "cell_type": "code",
   "execution_count": 12,
   "metadata": {},
   "outputs": [
    {
     "data": {
      "text/html": [
       "<div>\n",
       "<style scoped>\n",
       "    .dataframe tbody tr th:only-of-type {\n",
       "        vertical-align: middle;\n",
       "    }\n",
       "\n",
       "    .dataframe tbody tr th {\n",
       "        vertical-align: top;\n",
       "    }\n",
       "\n",
       "    .dataframe thead th {\n",
       "        text-align: right;\n",
       "    }\n",
       "</style>\n",
       "<table border=\"1\" class=\"dataframe\">\n",
       "  <thead>\n",
       "    <tr style=\"text-align: right;\">\n",
       "      <th></th>\n",
       "      <th>subreddit</th>\n",
       "      <th>author</th>\n",
       "      <th>date</th>\n",
       "      <th>post</th>\n",
       "      <th>target</th>\n",
       "      <th>cleaned_post</th>\n",
       "    </tr>\n",
       "  </thead>\n",
       "  <tbody>\n",
       "    <tr>\n",
       "      <th>0</th>\n",
       "      <td>guns</td>\n",
       "      <td>TrickyWidget</td>\n",
       "      <td>2019/08/29</td>\n",
       "      <td>Bersa Thunder 22: Long-term reliability? Hi, f...</td>\n",
       "      <td>non_mental_health</td>\n",
       "      <td>Bersa Thunder 22: Long-term reliability? Hi, f...</td>\n",
       "    </tr>\n",
       "    <tr>\n",
       "      <th>1</th>\n",
       "      <td>guns</td>\n",
       "      <td>Phonkboi</td>\n",
       "      <td>2019/08/29</td>\n",
       "      <td>Anybody have any experience with the diamondba...</td>\n",
       "      <td>non_mental_health</td>\n",
       "      <td>Anybody have any experience with the diamondba...</td>\n",
       "    </tr>\n",
       "    <tr>\n",
       "      <th>2</th>\n",
       "      <td>guns</td>\n",
       "      <td>civildallas</td>\n",
       "      <td>2019/08/29</td>\n",
       "      <td>Old &amp;amp; New // Colt 1911 &amp;amp; MCX Rattler I...</td>\n",
       "      <td>non_mental_health</td>\n",
       "      <td>Old &amp; New // Colt 1911 &amp; MCX Rattler If y'all ...</td>\n",
       "    </tr>\n",
       "    <tr>\n",
       "      <th>3</th>\n",
       "      <td>guns</td>\n",
       "      <td>alphenos</td>\n",
       "      <td>2019/08/29</td>\n",
       "      <td>Start working in a gun shop next week. Need so...</td>\n",
       "      <td>non_mental_health</td>\n",
       "      <td>Start working in a gun shop next week. Need so...</td>\n",
       "    </tr>\n",
       "    <tr>\n",
       "      <th>4</th>\n",
       "      <td>guns</td>\n",
       "      <td>ThePrince_OfWhales</td>\n",
       "      <td>2019/08/29</td>\n",
       "      <td>Cheap targets for plinking? I'm headed to the ...</td>\n",
       "      <td>non_mental_health</td>\n",
       "      <td>Cheap targets for plinking? I'm headed to the ...</td>\n",
       "    </tr>\n",
       "  </tbody>\n",
       "</table>\n",
       "</div>"
      ],
      "text/plain": [
       "  subreddit              author        date  \\\n",
       "0      guns        TrickyWidget  2019/08/29   \n",
       "1      guns            Phonkboi  2019/08/29   \n",
       "2      guns         civildallas  2019/08/29   \n",
       "3      guns            alphenos  2019/08/29   \n",
       "4      guns  ThePrince_OfWhales  2019/08/29   \n",
       "\n",
       "                                                post             target  \\\n",
       "0  Bersa Thunder 22: Long-term reliability? Hi, f...  non_mental_health   \n",
       "1  Anybody have any experience with the diamondba...  non_mental_health   \n",
       "2  Old &amp; New // Colt 1911 &amp; MCX Rattler I...  non_mental_health   \n",
       "3  Start working in a gun shop next week. Need so...  non_mental_health   \n",
       "4  Cheap targets for plinking? I'm headed to the ...  non_mental_health   \n",
       "\n",
       "                                        cleaned_post  \n",
       "0  Bersa Thunder 22: Long-term reliability? Hi, f...  \n",
       "1  Anybody have any experience with the diamondba...  \n",
       "2  Old & New // Colt 1911 & MCX Rattler If y'all ...  \n",
       "3  Start working in a gun shop next week. Need so...  \n",
       "4  Cheap targets for plinking? I'm headed to the ...  "
      ]
     },
     "execution_count": 12,
     "metadata": {},
     "output_type": "execute_result"
    }
   ],
   "source": [
    "mental_health_df.head()"
   ]
  },
  {
   "cell_type": "code",
   "execution_count": null,
   "metadata": {},
   "outputs": [],
   "source": [
    "# Natural Language Processing with Python and spaCy: A Practical Introduction by Yuli Vasiliev\n",
    "spacy_model = spacy.load('en_core_web_sm')\n",
    "\n",
    "def text_statistics(df, text_column):\n",
    "    total_words = 0\n",
    "    total_sentences = 0\n",
    "    unique_words = set()\n",
    "    total_words_without_stopwords = 0\n",
    "\n",
    "    for text in df[text_column]:\n",
    "        doc = spacy_model(str(text))\n",
    "\n",
    "        total_sentences += len(list(doc.sents))\n",
    "        \n",
    "        # Tokenize words and count total words, unique words, and words without stopwords\n",
    "        for token in doc:\n",
    "            if token.is_alpha:  # Only consider alphabetic tokens (words)\n",
    "                total_words += 1\n",
    "                unique_words.add(token.text.lower())\n",
    "                \n",
    "                if not token.is_stop:  # Skip stop words\n",
    "                    total_words_without_stopwords += 1\n",
    "\n",
    "    stats = {\n",
    "        \"total_words\": total_words,\n",
    "        \"unique_words_count\": len(unique_words),\n",
    "        \"total_sentences\": total_sentences,\n",
    "        \"total_words_without_stopwords\": total_words_without_stopwords\n",
    "    }\n",
    "    return stats"
   ]
  },
  {
   "cell_type": "code",
   "execution_count": null,
   "metadata": {},
   "outputs": [
    {
     "name": "stdout",
     "output_type": "stream",
     "text": [
      "Total Words: 198807402\n",
      "Unique Words: 239494\n",
      "Total Sentences: 12742645\n",
      "Total Words without Stopwords: 77943241\n"
     ]
    }
   ],
   "source": [
    "stats = text_statistics(mental_health_df, 'cleaned_post')\n",
    "\n",
    "print(f\"Total Words: {stats['total_words']}\")\n",
    "print(f\"Unique Words: {stats['unique_words_count']}\")\n",
    "print(f\"Total Sentences: {stats['total_sentences']}\")\n",
    "print(f\"Total Words without Stopwords: {stats['total_words_without_stopwords']}\")\n",
    "\n",
    "# Total Words: 198807402\n",
    "# Unique Words: 239494\n",
    "# Total Sentences: 12742645\n",
    "# Total Words without Stopwords: 77943241\n",
    "\n",
    "#595m 58.8s"
   ]
  },
  {
   "cell_type": "code",
   "execution_count": null,
   "metadata": {},
   "outputs": [],
   "source": []
  }
 ],
 "metadata": {
  "kernelspec": {
   "display_name": ".venv",
   "language": "python",
   "name": "python3"
  },
  "language_info": {
   "codemirror_mode": {
    "name": "ipython",
    "version": 3
   },
   "file_extension": ".py",
   "mimetype": "text/x-python",
   "name": "python",
   "nbconvert_exporter": "python",
   "pygments_lexer": "ipython3",
   "version": "3.12.7"
  }
 },
 "nbformat": 4,
 "nbformat_minor": 2
}
